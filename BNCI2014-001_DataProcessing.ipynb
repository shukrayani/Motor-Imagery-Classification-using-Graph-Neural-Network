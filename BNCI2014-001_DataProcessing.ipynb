{
 "cells": [
  {
   "cell_type": "code",
   "execution_count": 194,
   "metadata": {},
   "outputs": [],
   "source": [
    "import sys\n",
    "missing_paths = ['/usr/lib/python3/dist-packages', '/usr/local/lib/python3.6/dist-packages/moabb-0.2.1-py3.6.egg']\n",
    "for path in missing_paths:\n",
    "    if path not in sys.path:   \n",
    "        sys.path.append(path)"
   ]
  },
  {
   "cell_type": "code",
   "execution_count": 195,
   "metadata": {},
   "outputs": [],
   "source": [
    "from moabb.datasets import BNCI2014001\n",
    "from moabb.datasets import BNCI2015004\n",
    "from moabb.datasets import AlexMI"
   ]
  },
  {
   "cell_type": "code",
   "execution_count": 196,
   "metadata": {},
   "outputs": [],
   "source": [
    "import mne"
   ]
  },
  {
   "cell_type": "code",
   "execution_count": 197,
   "metadata": {},
   "outputs": [],
   "source": [
    "import numpy as np\n",
    "# from moabb.datasets import PhysionetMI\n",
    "from moabb.paradigms import (LeftRightImagery, MotorImagery,\n",
    "                             FilterBankMotorImagery)"
   ]
  },
  {
   "cell_type": "code",
   "execution_count": 198,
   "metadata": {},
   "outputs": [
    {
     "name": "stderr",
     "output_type": "stream",
     "text": [
      "Choosing from all possible events\n"
     ]
    }
   ],
   "source": [
    "paradigm = MotorImagery(n_classes=2)"
   ]
  },
  {
   "cell_type": "code",
   "execution_count": 199,
   "metadata": {},
   "outputs": [],
   "source": [
    "dataset=BNCI2014001()\n",
    "subjects=[1]\n",
    "X, y, metadata = paradigm.get_data(dataset=dataset,subjects=subjects)"
   ]
  },
  {
   "cell_type": "code",
   "execution_count": 201,
   "metadata": {},
   "outputs": [
    {
     "name": "stdout",
     "output_type": "stream",
     "text": [
      "(288, 22, 1001)\n",
      "(288,)\n"
     ]
    }
   ],
   "source": [
    "print(X.shape)\n",
    "print(y.shape)"
   ]
  },
  {
   "cell_type": "code",
   "execution_count": 202,
   "metadata": {},
   "outputs": [],
   "source": [
    "channels_selected=['1','2','3','4','5','6','7','8','9','10','11','12','13','14','15','16','17','18','19','20','21','22']\n",
    "# channels_selected = ['C3','Cz','C4']"
   ]
  },
  {
   "cell_type": "code",
   "execution_count": 203,
   "metadata": {},
   "outputs": [],
   "source": [
    "import pandas as pd\n",
    "import numpy as np\n",
    "import pickle\n",
    "import math\n",
    "import random\n",
    "from statistics import mean\n",
    "import statistics\n",
    "from scipy.stats import skew\n",
    "import math\n",
    "import networkx as nx\n",
    "from scipy.linalg import sqrtm\n",
    "from scipy.signal import butter, lfilter\n",
    "import scipy.io"
   ]
  },
  {
   "cell_type": "code",
   "execution_count": 204,
   "metadata": {},
   "outputs": [
    {
     "name": "stdout",
     "output_type": "stream",
     "text": [
      "(288, 22, 1001)\n",
      "22\n"
     ]
    }
   ],
   "source": [
    "sample_rate = 250\n",
    "print(X.shape)\n",
    "nchannels = 22\n",
    "nsamples = 288\n",
    "channel_names = ['Fz','2','3','4','5','6','7','C3','9','Cz','11','C4','13','14','15','16','17','18','19','Pz','21','22']\n",
    "# channel_names=['C3','Cz','C4']\n",
    "print(nchannels)"
   ]
  },
  {
   "cell_type": "code",
   "execution_count": 205,
   "metadata": {},
   "outputs": [],
   "source": [
    "cl_lab = ['right_hand','left_hand'] \n",
    "cl1 = cl_lab[0]\n",
    "cl2 = cl_lab[1]\n",
    "nclasses = len(cl_lab)"
   ]
  },
  {
   "cell_type": "code",
   "execution_count": 206,
   "metadata": {},
   "outputs": [
    {
     "name": "stdout",
     "output_type": "stream",
     "text": [
      "625\n"
     ]
    }
   ],
   "source": [
    "trials = {}\n",
    "win = np.arange(int(3.5*sample_rate), int(6.0*sample_rate))\n",
    "print(len(win))"
   ]
  },
  {
   "cell_type": "code",
   "execution_count": 207,
   "metadata": {},
   "outputs": [
    {
     "name": "stdout",
     "output_type": "stream",
     "text": [
      "144\n"
     ]
    }
   ],
   "source": [
    "# Length of the time window\n",
    "nsamples = 1001\n",
    "# Extract the onsets for the class\n",
    "cl_onsets_right = 0\n",
    "cl_onsets_left = 0\n",
    "for ind,yi in enumerate(y):\n",
    "#     print(yi)\n",
    "    if yi=='right_hand':\n",
    "        cl_onsets_right+=1\n",
    "    if yi=='left_hand':\n",
    "        cl_onsets_left+=1\n",
    "print(cl_onsets_left)\n",
    "trials['right_hand'] = np.zeros((nchannels, nsamples, cl_onsets_right))\n",
    "trials['left_hand'] = np.zeros((nchannels, nsamples, cl_onsets_left))\n",
    "left_ind=0\n",
    "right_ind=0\n",
    "# print(X.shape)\n",
    "# print(y.shape)\n",
    "for ind,yi in enumerate(y):\n",
    "    if yi=='right_hand':\n",
    "        trials['right_hand'][:,:,right_ind] = X[ind, :,:]\n",
    "        right_ind+=1\n",
    "    if yi=='left_hand':\n",
    "        trials['left_hand'][:,:,left_ind] = X[ind, :,:]\n",
    "        left_ind+=1"
   ]
  },
  {
   "cell_type": "code",
   "execution_count": 208,
   "metadata": {},
   "outputs": [
    {
     "name": "stdout",
     "output_type": "stream",
     "text": [
      "(22, 1001, 144)\n"
     ]
    }
   ],
   "source": [
    "print(trials['left_hand'].shape)"
   ]
  },
  {
   "cell_type": "code",
   "execution_count": 209,
   "metadata": {},
   "outputs": [],
   "source": [
    "from matplotlib import mlab\n",
    "\n",
    "def psd(trials):\n",
    "    '''\n",
    "    Calculates for each trial the Power Spectral Density (PSD).\n",
    "    \n",
    "    Parameters\n",
    "    ----------\n",
    "    trials : 3d-array (channels x samples x trials)\n",
    "        The EEG signal\n",
    "    \n",
    "    Returns\n",
    "    -------\n",
    "    trial_PSD : 3d-array (channels x PSD x trials)\n",
    "        the PSD for each trial.  \n",
    "    freqs : list of floats\n",
    "        Yhe frequencies for which the PSD was computed (useful for plotting later)\n",
    "    '''\n",
    "    \n",
    "    ntrials = trials.shape[2]\n",
    "    trials_PSD = np.zeros((nchannels, 501, ntrials))\n",
    "\n",
    "    # Iterate over trials and channels\n",
    "    for trial in range(ntrials):\n",
    "        for ch in range(nchannels):\n",
    "            # Calculate the PSD\n",
    "            (PSD, freqs) = mlab.psd(trials[ch,:,trial], NFFT=int(nsamples), Fs=sample_rate)\n",
    "            trials_PSD[ch, :, trial] = PSD.ravel()\n",
    "                \n",
    "    return trials_PSD, freqs"
   ]
  },
  {
   "cell_type": "code",
   "execution_count": 210,
   "metadata": {},
   "outputs": [
    {
     "name": "stdout",
     "output_type": "stream",
     "text": [
      "(22, 501, 144)\n"
     ]
    }
   ],
   "source": [
    "# Apply the function\n",
    "psd_r, freqs = psd(trials[cl1])\n",
    "psd_f, freqs = psd(trials[cl2])\n",
    "trials_PSD = {cl1: psd_r, cl2: psd_f}\n",
    "print(psd_r.shape)"
   ]
  },
  {
   "cell_type": "code",
   "execution_count": 211,
   "metadata": {},
   "outputs": [],
   "source": [
    "import matplotlib.pyplot as plt\n",
    "\n",
    "def plot_psd(trials_PSD, freqs, chan_ind, chan_lab=None, maxy=None):\n",
    "    '''\n",
    "    Plots PSD data calculated with psd().\n",
    "    \n",
    "    Parameters\n",
    "    ----------\n",
    "    trials : 3d-array\n",
    "        The PSD data, as returned by psd()\n",
    "    freqs : list of floats\n",
    "        The frequencies for which the PSD is defined, as returned by psd() \n",
    "    chan_ind : list of integers\n",
    "        The indices of the channels to plot\n",
    "    chan_lab : list of strings\n",
    "        (optional) List of names for each channel\n",
    "    maxy : float\n",
    "        (optional) Limit the y-axis to this value\n",
    "    '''\n",
    "    plt.figure(figsize=(12,5))\n",
    "    \n",
    "    nchans = len(chan_ind)\n",
    "    \n",
    "    # Maximum of 3 plots per row\n",
    "    nrows = np.ceil(nchans / 3)\n",
    "    ncols = min(3, nchans)\n",
    "    \n",
    "    # Enumerate over the channels\n",
    "    for i,ch in enumerate(chan_ind):\n",
    "        # Figure out which subplot to draw to\n",
    "        plt.subplot(nrows,ncols,i+1)\n",
    "    \n",
    "        # Plot the PSD for each class\n",
    "        for cl in trials.keys():\n",
    "            plt.plot(freqs, np.mean(trials_PSD[cl][ch,:,:], axis=1), label=cl)\n",
    "    \n",
    "        # All plot decoration below...\n",
    "        \n",
    "        plt.xlim(1,30)\n",
    "        \n",
    "        if maxy != None:\n",
    "            plt.ylim(0,maxy)\n",
    "    \n",
    "        plt.grid()\n",
    "    \n",
    "        plt.xlabel('Frequency (Hz)')\n",
    "        \n",
    "        if chan_lab == None:\n",
    "            plt.title('Channel %d' % (ch+1))\n",
    "        else:\n",
    "            plt.title(chan_lab[i])\n",
    "\n",
    "        plt.legend()\n",
    "        \n",
    "    plt.tight_layout()"
   ]
  },
  {
   "cell_type": "code",
   "execution_count": 212,
   "metadata": {},
   "outputs": [
    {
     "name": "stderr",
     "output_type": "stream",
     "text": [
      "/home/shukra/anaconda3/envs/test-1/lib/python3.6/site-packages/ipykernel_launcher.py:31: MatplotlibDeprecationWarning: Passing non-integers as three-element position specification is deprecated since 3.3 and will be removed two minor releases later.\n",
      "/home/shukra/anaconda3/envs/test-1/lib/python3.6/site-packages/ipykernel_launcher.py:31: MatplotlibDeprecationWarning: Passing non-integers as three-element position specification is deprecated since 3.3 and will be removed two minor releases later.\n",
      "/home/shukra/anaconda3/envs/test-1/lib/python3.6/site-packages/ipykernel_launcher.py:31: MatplotlibDeprecationWarning: Passing non-integers as three-element position specification is deprecated since 3.3 and will be removed two minor releases later.\n"
     ]
    },
    {
     "data": {
      "image/png": "[encoded data removed]",
      "text/plain": [
       "<Figure size 864x360 with 3 Axes>"
      ]
     },
     "metadata": {
      "needs_background": "light"
     },
     "output_type": "display_data"
    }
   ],
   "source": [
    "plot_psd(\n",
    "    trials_PSD,\n",
    "    freqs,\n",
    "    [channel_names.index(ch) for ch in ['C3', 'Cz', 'C4']],\n",
    "    chan_lab=['left', 'center', 'right'],\n",
    "    maxy=500\n",
    ")"
   ]
  },
  {
   "cell_type": "code",
   "execution_count": 213,
   "metadata": {},
   "outputs": [],
   "source": [
    "import scipy.signal \n",
    "\n",
    "def bandpass(trials, lo, hi, sample_rate):\n",
    "    '''\n",
    "    Designs and applies a bandpass filter to the signal.\n",
    "    \n",
    "    Parameters\n",
    "    ----------\n",
    "    trials : 3d-array (channels x samples x trials)\n",
    "        The EEGsignal\n",
    "    lo : float\n",
    "        Lower frequency bound (in Hz)\n",
    "    hi : float\n",
    "        Upper frequency bound (in Hz)\n",
    "    sample_rate : float\n",
    "        Sample rate of the signal (in Hz)\n",
    "    \n",
    "    Returns\n",
    "    -------\n",
    "    trials_filt : 3d-array (channels x samples x trials)\n",
    "        The bandpassed signal\n",
    "    '''\n",
    "\n",
    "    # The iirfilter() function takes the filter order: higher numbers mean a sharper frequency cutoff,\n",
    "    # but the resulting signal might be shifted in time, lower numbers mean a soft frequency cutoff,\n",
    "    # but the resulting signal less distorted in time. It also takes the lower and upper frequency bounds\n",
    "    # to pass, divided by the niquist frequency, which is the sample rate divided by 2:\n",
    "    a, b = scipy.signal.iirfilter(6, [lo/(sample_rate/2.0), hi/(sample_rate/2.0)])\n",
    "\n",
    "    # Applying the filter to each trial\n",
    "    ntrials = trials.shape[2]\n",
    "    trials_filt = np.zeros((nchannels, nsamples, ntrials))\n",
    "    for i in range(ntrials):\n",
    "        trials_filt[:,:,i] = scipy.signal.filtfilt(a, b, trials[:,:,i], axis=1)\n",
    "    \n",
    "    return trials_filt"
   ]
  },
  {
   "cell_type": "code",
   "execution_count": 214,
   "metadata": {},
   "outputs": [],
   "source": [
    "# Apply the function\n",
    "trials_filt = {cl1: bandpass(trials[cl1], 8, 15, sample_rate),\n",
    "               cl2: bandpass(trials[cl2], 8, 15, sample_rate)}"
   ]
  },
  {
   "cell_type": "code",
   "execution_count": 215,
   "metadata": {},
   "outputs": [
    {
     "name": "stderr",
     "output_type": "stream",
     "text": [
      "/home/shukra/anaconda3/envs/test-1/lib/python3.6/site-packages/ipykernel_launcher.py:31: MatplotlibDeprecationWarning: Passing non-integers as three-element position specification is deprecated since 3.3 and will be removed two minor releases later.\n",
      "/home/shukra/anaconda3/envs/test-1/lib/python3.6/site-packages/ipykernel_launcher.py:31: MatplotlibDeprecationWarning: Passing non-integers as three-element position specification is deprecated since 3.3 and will be removed two minor releases later.\n",
      "/home/shukra/anaconda3/envs/test-1/lib/python3.6/site-packages/ipykernel_launcher.py:31: MatplotlibDeprecationWarning: Passing non-integers as three-element position specification is deprecated since 3.3 and will be removed two minor releases later.\n"
     ]
    },
    {
     "data": {
      "image/png": "[encoded data removed]",
      "text/plain": [
       "<Figure size 864x360 with 3 Axes>"
      ]
     },
     "metadata": {
      "needs_background": "light"
     },
     "output_type": "display_data"
    }
   ],
   "source": [
    "psd_r, freqs = psd(trials_filt[cl1])\n",
    "psd_f, freqs = psd(trials_filt[cl2])\n",
    "trials_PSD = {cl1: psd_r, cl2: psd_f}\n",
    "\n",
    "plot_psd(\n",
    "    trials_PSD,\n",
    "    freqs,\n",
    "    [channel_names.index(ch) for ch in ['C3', 'Cz', 'C4']],\n",
    "    chan_lab=['left', 'center', 'right'],\n",
    "    maxy=300\n",
    ")"
   ]
  },
  {
   "cell_type": "code",
   "execution_count": 216,
   "metadata": {},
   "outputs": [],
   "source": [
    "# Calculate the log(var) of the trials\n",
    "def logvar(trials):\n",
    "    '''\n",
    "    Calculate the log-var of each channel.\n",
    "    \n",
    "    Parameters\n",
    "    ----------\n",
    "    trials : 3d-array (channels x samples x trials)\n",
    "        The EEG signal.\n",
    "        \n",
    "    Returns\n",
    "    -------\n",
    "    logvar - 2d-array (channels x trials)\n",
    "        For each channel the logvar of the signal\n",
    "    '''\n",
    "#     print(np.log(np.var(trials[0], axis=1)).shape)\n",
    "    return np.log(np.var(trials, axis=1))"
   ]
  },
  {
   "cell_type": "code",
   "execution_count": 217,
   "metadata": {},
   "outputs": [
    {
     "name": "stdout",
     "output_type": "stream",
     "text": [
      "{'right_hand': array([[2.12258914, 2.35425297, 2.67366112, ..., 2.24042572, 2.2831469 ,\n",
      "        2.72724945],\n",
      "       [1.77521161, 2.13564098, 2.49817854, ..., 2.28554482, 2.05136907,\n",
      "        2.50517601],\n",
      "       [2.0425451 , 2.40301367, 2.7121879 , ..., 2.33203006, 2.23139188,\n",
      "        2.72775256],\n",
      "       ...,\n",
      "       [2.41325938, 2.39762043, 2.61707588, ..., 2.50678255, 2.38459787,\n",
      "        2.56273165],\n",
      "       [2.31417153, 2.37020253, 2.71963753, ..., 2.54166081, 2.44222373,\n",
      "        2.39876211],\n",
      "       [2.28003133, 2.57984798, 2.8154691 , ..., 2.59303932, 2.7073709 ,\n",
      "        2.73447633]]), 'left_hand': array([[2.54318901, 2.06853731, 3.11615764, ..., 2.13130272, 2.39956467,\n",
      "        2.21431334],\n",
      "       [2.62093941, 1.994503  , 2.96340963, ..., 2.00289061, 2.2898885 ,\n",
      "        1.99926383],\n",
      "       [2.70045548, 1.97528904, 2.97397443, ..., 2.1994292 , 2.47474002,\n",
      "        2.21761606],\n",
      "       ...,\n",
      "       [2.71266585, 2.35280181, 2.83027997, ..., 2.391827  , 2.64558102,\n",
      "        2.10126652],\n",
      "       [2.58527455, 2.34291946, 2.81937128, ..., 2.27972177, 2.73851719,\n",
      "        2.05793861],\n",
      "       [2.73799022, 2.5595316 , 2.92759082, ..., 2.36869884, 2.57136954,\n",
      "        2.36805807]])}\n",
      "(22, 144)\n"
     ]
    }
   ],
   "source": [
    "# Apply the function\n",
    "trials_logvar = {cl1: logvar(trials_filt[cl1]),\n",
    "                 cl2: logvar(trials_filt[cl2])}\n",
    "print(trials_logvar)\n",
    "print(trials_logvar['right_hand'].shape)"
   ]
  },
  {
   "cell_type": "code",
   "execution_count": 218,
   "metadata": {},
   "outputs": [],
   "source": [
    "def plot_logvar(trials):\n",
    "    '''\n",
    "    Plots the log-var of each channel/component.\n",
    "    arguments:\n",
    "        trials - Dictionary containing the trials (log-vars x trials) for 2 classes.\n",
    "    '''\n",
    "    plt.figure(figsize=(12,5))\n",
    "    \n",
    "    x0 = np.arange(nchannels)\n",
    "    x1 = np.arange(nchannels) + 0.4\n",
    "\n",
    "    y0 = np.mean(trials[cl1], axis=1)\n",
    "    y1 = np.mean(trials[cl2], axis=1)\n",
    "\n",
    "    plt.bar(x0, y0, width=0.5, color='b')\n",
    "    plt.bar(x1, y1, width=0.4, color='r')\n",
    "\n",
    "    plt.xlim(-0.5, nchannels+0.5)\n",
    "\n",
    "    plt.gca().yaxis.grid(True)\n",
    "    plt.title('log-var of each channel/component')\n",
    "    plt.xlabel('channels/components')\n",
    "    plt.ylabel('log-var')\n",
    "    plt.legend(cl_lab)"
   ]
  },
  {
   "cell_type": "code",
   "execution_count": 219,
   "metadata": {},
   "outputs": [
    {
     "data": {
      "image/png": "[encoded data removed]",
      "text/plain": [
       "<Figure size 864x360 with 1 Axes>"
      ]
     },
     "metadata": {
      "needs_background": "light"
     },
     "output_type": "display_data"
    }
   ],
   "source": [
    "# Plot the log-vars\n",
    "plot_logvar(trials_logvar)"
   ]
  },
  {
   "cell_type": "code",
   "execution_count": 220,
   "metadata": {},
   "outputs": [],
   "source": [
    "from numpy import linalg\n",
    "\n",
    "def cov(trials):\n",
    "    ''' Calculate the covariance for each trial and return their average '''\n",
    "    ntrials = trials.shape[2]\n",
    "    covs = [ trials[:,:,i].dot(trials[:,:,i].T) / nsamples for i in range(ntrials) ]\n",
    "    return np.mean(covs, axis=0)\n",
    "\n",
    "def whitening(sigma):\n",
    "    ''' Calculate a whitening matrix for covariance matrix sigma. '''\n",
    "    U, l, _ = linalg.svd(sigma)\n",
    "    return U.dot( np.diag(l ** -0.5) )\n",
    "\n",
    "def csp(trials_r, trials_f):\n",
    "    '''\n",
    "    Calculate the CSP transformation matrix W.\n",
    "    arguments:\n",
    "        trials_r - Array (channels x samples x trials) containing right hand movement trials\n",
    "        trials_f - Array (channels x samples x trials) containing foot movement trials\n",
    "    returns:\n",
    "        Mixing matrix W\n",
    "    '''\n",
    "    cov_r = cov(trials_r)\n",
    "#     print(cov_r)\n",
    "    cov_f = cov(trials_f)\n",
    "    P = whitening(cov_r + cov_f)\n",
    "    B, _, _ = linalg.svd( P.T.dot(cov_f).dot(P) )\n",
    "    W = P.dot(B)\n",
    "    return W\n",
    "\n",
    "def apply_mix(W, trials):\n",
    "    ''' Apply a mixing matrix to each trial (basically multiply W with the EEG signal matrix)'''\n",
    "    ntrials = trials.shape[2]\n",
    "    trials_csp = np.zeros((nchannels, nsamples, ntrials))\n",
    "    for i in range(ntrials):\n",
    "        trials_csp[:,:,i] = W.T.dot(trials[:,:,i])\n",
    "    return trials_csp"
   ]
  },
  {
   "cell_type": "code",
   "execution_count": 221,
   "metadata": {},
   "outputs": [
    {
     "name": "stdout",
     "output_type": "stream",
     "text": [
      "(22, 1001, 144)\n"
     ]
    }
   ],
   "source": [
    "# Apply the functions\n",
    "W = csp(trials_filt[cl1], trials_filt[cl2])\n",
    "trials_csp = {cl1: apply_mix(W, trials_filt[cl1]),\n",
    "              cl2: apply_mix(W, trials_filt[cl2])}\n",
    "print(trials_csp[cl1].shape)"
   ]
  },
  {
   "cell_type": "code",
   "execution_count": 223,
   "metadata": {},
   "outputs": [
    {
     "name": "stdout",
     "output_type": "stream",
     "text": [
      "(1001, 22)\n",
      "(1001, 22)\n",
      "(1001, 22)\n",
      "(1001, 22)\n",
      "(1001, 22)\n",
      "(1001, 22)\n",
      "(1001, 22)\n",
      "(1001, 22)\n",
      "(1001, 22)\n",
      "(1001, 22)\n",
      "(1001, 22)\n",
      "(1001, 22)\n",
      "(1001, 22)\n",
      "(1001, 22)\n",
      "(1001, 22)\n",
      "(1001, 22)\n",
      "(1001, 22)\n",
      "(1001, 22)\n",
      "(1001, 22)\n",
      "(1001, 22)\n",
      "(1001, 22)\n",
      "(1001, 22)\n",
      "(1001, 22)\n",
      "(1001, 22)\n",
      "(1001, 22)\n",
      "(1001, 22)\n",
      "(1001, 22)\n",
      "(1001, 22)\n",
      "(1001, 22)\n",
      "(1001, 22)\n",
      "(1001, 22)\n",
      "(1001, 22)\n",
      "(1001, 22)\n",
      "(1001, 22)\n",
      "(1001, 22)\n",
      "(1001, 22)\n",
      "(1001, 22)\n",
      "(1001, 22)\n",
      "(1001, 22)\n",
      "(1001, 22)\n",
      "(1001, 22)\n",
      "(1001, 22)\n",
      "(1001, 22)\n",
      "(1001, 22)\n",
      "(1001, 22)\n",
      "(1001, 22)\n",
      "(1001, 22)\n",
      "(1001, 22)\n",
      "(1001, 22)\n",
      "(1001, 22)\n",
      "(1001, 22)\n",
      "(1001, 22)\n",
      "(1001, 22)\n",
      "(1001, 22)\n",
      "(1001, 22)\n",
      "(1001, 22)\n",
      "(1001, 22)\n",
      "(1001, 22)\n",
      "(1001, 22)\n",
      "(1001, 22)\n",
      "(1001, 22)\n",
      "(1001, 22)\n",
      "(1001, 22)\n",
      "(1001, 22)\n",
      "(1001, 22)\n",
      "(1001, 22)\n",
      "(1001, 22)\n",
      "(1001, 22)\n",
      "(1001, 22)\n",
      "(1001, 22)\n",
      "(1001, 22)\n",
      "(1001, 22)\n",
      "(1001, 22)\n",
      "(1001, 22)\n",
      "(1001, 22)\n",
      "(1001, 22)\n",
      "(1001, 22)\n",
      "(1001, 22)\n",
      "(1001, 22)\n",
      "(1001, 22)\n",
      "(1001, 22)\n",
      "(1001, 22)\n",
      "(1001, 22)\n",
      "(1001, 22)\n",
      "(1001, 22)\n",
      "(1001, 22)\n",
      "(1001, 22)\n",
      "(1001, 22)\n",
      "(1001, 22)\n",
      "(1001, 22)\n",
      "(1001, 22)\n",
      "(1001, 22)\n",
      "(1001, 22)\n",
      "(1001, 22)\n",
      "(1001, 22)\n",
      "(1001, 22)\n",
      "(1001, 22)\n",
      "(1001, 22)\n",
      "(1001, 22)\n",
      "(1001, 22)\n",
      "(1001, 22)\n",
      "(1001, 22)\n",
      "(1001, 22)\n",
      "(1001, 22)\n",
      "(1001, 22)\n",
      "(1001, 22)\n",
      "(1001, 22)\n",
      "(1001, 22)\n",
      "(1001, 22)\n",
      "(1001, 22)\n",
      "(1001, 22)\n",
      "(1001, 22)\n",
      "(1001, 22)\n",
      "(1001, 22)\n",
      "(1001, 22)\n",
      "(1001, 22)\n",
      "(1001, 22)\n",
      "(1001, 22)\n",
      "(1001, 22)\n",
      "(1001, 22)\n",
      "(1001, 22)\n",
      "(1001, 22)\n",
      "(1001, 22)\n",
      "(1001, 22)\n",
      "(1001, 22)\n",
      "(1001, 22)\n",
      "(1001, 22)\n",
      "(1001, 22)\n",
      "(1001, 22)\n",
      "(1001, 22)\n",
      "(1001, 22)\n",
      "(1001, 22)\n",
      "(1001, 22)\n",
      "(1001, 22)\n",
      "(1001, 22)\n",
      "(1001, 22)\n",
      "(1001, 22)\n",
      "(1001, 22)\n",
      "(1001, 22)\n",
      "(1001, 22)\n",
      "(1001, 22)\n",
      "(1001, 22)\n",
      "(1001, 22)\n",
      "(1001, 22)\n",
      "(1001, 22)\n",
      "(1001, 22)\n",
      "(1001, 22)\n",
      "(1001, 22)\n",
      "(1001, 22)\n",
      "(1001, 22)\n",
      "(1001, 22)\n",
      "(1001, 22)\n",
      "(1001, 22)\n",
      "(1001, 22)\n",
      "(1001, 22)\n",
      "(1001, 22)\n",
      "(1001, 22)\n",
      "(1001, 22)\n",
      "(1001, 22)\n",
      "(1001, 22)\n",
      "(1001, 22)\n",
      "(1001, 22)\n",
      "(1001, 22)\n",
      "(1001, 22)\n",
      "(1001, 22)\n",
      "(1001, 22)\n",
      "(1001, 22)\n",
      "(1001, 22)\n",
      "(1001, 22)\n",
      "(1001, 22)\n",
      "(1001, 22)\n",
      "(1001, 22)\n",
      "(1001, 22)\n",
      "(1001, 22)\n",
      "(1001, 22)\n",
      "(1001, 22)\n",
      "(1001, 22)\n",
      "(1001, 22)\n",
      "(1001, 22)\n",
      "(1001, 22)\n",
      "(1001, 22)\n",
      "(1001, 22)\n",
      "(1001, 22)\n",
      "(1001, 22)\n",
      "(1001, 22)\n",
      "(1001, 22)\n",
      "(1001, 22)\n",
      "(1001, 22)\n",
      "(1001, 22)\n",
      "(1001, 22)\n",
      "(1001, 22)\n",
      "(1001, 22)\n",
      "(1001, 22)\n",
      "(1001, 22)\n",
      "(1001, 22)\n",
      "(1001, 22)\n",
      "(1001, 22)\n",
      "(1001, 22)\n",
      "(1001, 22)\n",
      "(1001, 22)\n",
      "(1001, 22)\n",
      "(1001, 22)\n",
      "(1001, 22)\n",
      "(1001, 22)\n",
      "(1001, 22)\n",
      "(1001, 22)\n",
      "(1001, 22)\n",
      "(1001, 22)\n",
      "(1001, 22)\n",
      "(1001, 22)\n",
      "(1001, 22)\n",
      "(1001, 22)\n",
      "(1001, 22)\n",
      "(1001, 22)\n",
      "(1001, 22)\n",
      "(1001, 22)\n",
      "(1001, 22)\n",
      "(1001, 22)\n",
      "(1001, 22)\n",
      "(1001, 22)\n",
      "(1001, 22)\n",
      "(1001, 22)\n",
      "(1001, 22)\n",
      "(1001, 22)\n",
      "(1001, 22)\n",
      "(1001, 22)\n",
      "(1001, 22)\n",
      "(1001, 22)\n",
      "(1001, 22)\n",
      "(1001, 22)\n",
      "(1001, 22)\n",
      "(1001, 22)\n",
      "(1001, 22)\n",
      "(1001, 22)\n",
      "(1001, 22)\n",
      "(1001, 22)\n",
      "(1001, 22)\n",
      "(1001, 22)\n",
      "(1001, 22)\n",
      "(1001, 22)\n",
      "(1001, 22)\n",
      "(1001, 22)\n",
      "(1001, 22)\n",
      "(1001, 22)\n",
      "(1001, 22)\n",
      "(1001, 22)\n",
      "(1001, 22)\n",
      "(1001, 22)\n",
      "(1001, 22)\n",
      "(1001, 22)\n",
      "(1001, 22)\n",
      "(1001, 22)\n",
      "(1001, 22)\n",
      "(1001, 22)\n",
      "(1001, 22)\n",
      "(1001, 22)\n",
      "(1001, 22)\n",
      "(1001, 22)\n",
      "(1001, 22)\n",
      "(1001, 22)\n",
      "(1001, 22)\n",
      "(1001, 22)\n",
      "(1001, 22)\n",
      "(1001, 22)\n",
      "(1001, 22)\n",
      "(1001, 22)\n",
      "(1001, 22)\n",
      "(1001, 22)\n",
      "(1001, 22)\n",
      "(1001, 22)\n",
      "(1001, 22)\n",
      "(1001, 22)\n",
      "(1001, 22)\n",
      "(1001, 22)\n",
      "(1001, 22)\n",
      "(1001, 22)\n",
      "(1001, 22)\n",
      "(1001, 22)\n",
      "(1001, 22)\n",
      "(1001, 22)\n",
      "(1001, 22)\n",
      "(1001, 22)\n",
      "(1001, 22)\n",
      "(1001, 22)\n",
      "(1001, 22)\n",
      "(1001, 22)\n",
      "(1001, 22)\n",
      "(1001, 22)\n"
     ]
    }
   ],
   "source": [
    "y_list=[]\n",
    "j=0\n",
    "for i in range(trials_csp[cl1].shape[2]):\n",
    "    single = trials_csp[cl1][:,:,i].T\n",
    "    df = pd.DataFrame(data=single,columns=channel_names)\n",
    "#     df=df[channels_selected].T\n",
    "    a = np.array(df)\n",
    "    print(a.shape)\n",
    "    np.savetxt(\"/home/shukra/Desktop/MTP/MI Data/PLI_input/BNCI-2014-001/Subject-9\"+\"/Data/sub9-\"+str(j)+\".csv\", a.T, delimiter = \",\")\n",
    "    j+=1\n",
    "    y_list.append(0)\n",
    "for i in range(trials_csp[cl2].shape[2]):\n",
    "    single = trials_csp[cl2][:,:,i].T\n",
    "#     print(single.shape)\n",
    "    df = pd.DataFrame(data=single,columns=channel_names)\n",
    "#     print(df)\n",
    "#     df=df[channels_selected].T\n",
    "#     print(df.shape)\n",
    "    a = np.array(df)\n",
    "    print(a.shape)\n",
    "    np.savetxt(\"/home/shukra/Desktop/MTP/MI Data/PLI_input/BNCI-2014-001/Subject-9\"+\"/Data/sub9-\"+str(j)+\".csv\", a.T, delimiter = \",\")\n",
    "    j+=1\n",
    "    y_list.append(1)\n",
    "np.array(y_list).tofile('/home/shukra/Desktop/MTP/MI Data/PLI_input/BNCI-2014-001/Subject-9/Label/subject-9'+'.csv', sep = ',')"
   ]
  },
  {
   "cell_type": "code",
   "execution_count": 224,
   "metadata": {},
   "outputs": [
    {
     "name": "stdout",
     "output_type": "stream",
     "text": [
      "288\n"
     ]
    }
   ],
   "source": [
    "print(len(y_list))"
   ]
  },
  {
   "cell_type": "code",
   "execution_count": 225,
   "metadata": {},
   "outputs": [
    {
     "data": {
      "image/png": "[encoded data removed]",
      "text/plain": [
       "<Figure size 864x360 with 1 Axes>"
      ]
     },
     "metadata": {
      "needs_background": "light"
     },
     "output_type": "display_data"
    }
   ],
   "source": [
    "trials_logvar = {cl1: logvar(trials_csp[cl1]),\n",
    "                 cl2: logvar(trials_csp[cl2])}\n",
    "plot_logvar(trials_logvar)"
   ]
  },
  {
   "cell_type": "code",
   "execution_count": 226,
   "metadata": {},
   "outputs": [
    {
     "name": "stderr",
     "output_type": "stream",
     "text": [
      "/home/shukra/anaconda3/envs/test-1/lib/python3.6/site-packages/ipykernel_launcher.py:31: MatplotlibDeprecationWarning: Passing non-integers as three-element position specification is deprecated since 3.3 and will be removed two minor releases later.\n",
      "/home/shukra/anaconda3/envs/test-1/lib/python3.6/site-packages/ipykernel_launcher.py:31: MatplotlibDeprecationWarning: Passing non-integers as three-element position specification is deprecated since 3.3 and will be removed two minor releases later.\n",
      "/home/shukra/anaconda3/envs/test-1/lib/python3.6/site-packages/ipykernel_launcher.py:31: MatplotlibDeprecationWarning: Passing non-integers as three-element position specification is deprecated since 3.3 and will be removed two minor releases later.\n"
     ]
    },
    {
     "data": {
      "image/png": "[encoded data removed]",
      "text/plain": [
       "<Figure size 864x360 with 3 Axes>"
      ]
     },
     "metadata": {
      "needs_background": "light"
     },
     "output_type": "display_data"
    }
   ],
   "source": [
    "psd_r, freqs = psd(trials_csp[cl1])\n",
    "psd_f, freqs = psd(trials_csp[cl2])\n",
    "trials_PSD = {cl1: psd_r, cl2: psd_f}\n",
    "\n",
    "plot_psd(trials_PSD, freqs, [0,1,-1], chan_lab=['first component', 'middle component', 'last component'], maxy=0.75 )\n"
   ]
  },
  {
   "cell_type": "code",
   "execution_count": 227,
   "metadata": {},
   "outputs": [],
   "source": [
    "def plot_scatter(left, foot):\n",
    "    plt.figure()\n",
    "    plt.scatter(left[0,:], left[-1,:], color='b')\n",
    "    plt.scatter(foot[0,:], foot[-1,:], color='r')\n",
    "    plt.xlabel('Last component')\n",
    "    plt.ylabel('First component')\n",
    "    plt.legend(cl_lab)"
   ]
  },
  {
   "cell_type": "code",
   "execution_count": 228,
   "metadata": {},
   "outputs": [
    {
     "data": {
      "image/png": "[encoded data removed]",
      "text/plain": [
       "<Figure size 432x288 with 1 Axes>"
      ]
     },
     "metadata": {
      "needs_background": "light"
     },
     "output_type": "display_data"
    }
   ],
   "source": [
    "plot_scatter(trials_logvar[cl1], trials_logvar[cl2])\n"
   ]
  },
  {
   "cell_type": "code",
   "execution_count": 229,
   "metadata": {},
   "outputs": [
    {
     "name": "stdout",
     "output_type": "stream",
     "text": [
      "0\n",
      "1\n",
      "2\n",
      "3\n",
      "4\n",
      "5\n",
      "6\n",
      "7\n",
      "8\n",
      "9\n",
      "10\n",
      "11\n",
      "12\n",
      "13\n",
      "14\n",
      "15\n",
      "16\n",
      "17\n",
      "18\n",
      "19\n",
      "20\n",
      "21\n",
      "22\n",
      "23\n",
      "24\n",
      "25\n",
      "26\n",
      "27\n",
      "28\n",
      "29\n",
      "30\n",
      "31\n",
      "32\n",
      "33\n",
      "34\n",
      "35\n",
      "36\n",
      "37\n",
      "38\n",
      "39\n",
      "40\n",
      "41\n",
      "42\n",
      "43\n",
      "44\n",
      "45\n",
      "46\n",
      "47\n",
      "48\n",
      "49\n",
      "50\n",
      "51\n",
      "52\n",
      "53\n",
      "54\n",
      "55\n",
      "56\n",
      "57\n",
      "58\n",
      "59\n",
      "60\n",
      "61\n",
      "62\n",
      "63\n",
      "64\n",
      "65\n",
      "66\n",
      "67\n",
      "68\n",
      "69\n",
      "70\n",
      "71\n",
      "72\n",
      "73\n",
      "74\n",
      "75\n",
      "76\n",
      "77\n",
      "78\n",
      "79\n",
      "80\n",
      "81\n",
      "82\n",
      "83\n",
      "84\n",
      "85\n",
      "86\n",
      "87\n",
      "88\n",
      "89\n",
      "90\n",
      "91\n",
      "92\n",
      "93\n",
      "94\n",
      "95\n",
      "96\n",
      "97\n",
      "98\n",
      "99\n",
      "100\n",
      "101\n",
      "102\n",
      "103\n",
      "104\n",
      "105\n",
      "106\n",
      "107\n",
      "108\n",
      "109\n",
      "110\n",
      "111\n",
      "112\n",
      "113\n",
      "114\n",
      "115\n",
      "116\n",
      "117\n",
      "118\n",
      "119\n",
      "120\n",
      "121\n",
      "122\n",
      "123\n",
      "124\n",
      "125\n",
      "126\n",
      "127\n",
      "128\n",
      "129\n",
      "130\n",
      "131\n",
      "132\n",
      "133\n",
      "134\n",
      "135\n",
      "136\n",
      "137\n",
      "138\n",
      "139\n",
      "140\n",
      "141\n",
      "142\n",
      "143\n"
     ]
    }
   ],
   "source": [
    "ntrials = trials_csp[cl1].shape[2]\n",
    "input_list=[]\n",
    "tmp=0\n",
    "for i in range(ntrials):\n",
    "    data = trials_csp[cl1][:,:,i].T\n",
    "    df = pd.DataFrame(data=data,columns=channel_names)\n",
    "#     print(df)\n",
    "    pearsonCorrelation={}\n",
    "    #adJMatrix=[]\n",
    "    for i in channel_names:\n",
    "        #matrix_list=[]\n",
    "        for j in channel_names:\n",
    "            x=df[i]\n",
    "            x_t=np.array(x).T\n",
    "            y=df[j]\n",
    "            y_t=np.array(y).T\n",
    "            r=np.corrcoef(x_t,y_t)\n",
    "            pearsonCorrelation[(i,j)]=r[0,1]\n",
    "    partialCorrelation=dict()\n",
    "    # adJMatrix is to store the Ajencency matrix\n",
    "    adJMatrix=[]\n",
    "    features_total=[]\n",
    "    for i in channel_names:\n",
    "        matrix_list=[]\n",
    "        features=[]\n",
    "#         print(df[i])\n",
    "        features.append(mean(df[i]))\n",
    "        features.append(statistics.median(df[i]))\n",
    "        features.append(np.std(np.array(df[i]).T, dtype = np.float64))\n",
    "        features.append(skew(df[i]))\n",
    "        features_total.append(features)\n",
    "        for j in channel_names:\n",
    "            list=[]\n",
    "            i_j=pearsonCorrelation[(i,j)]\n",
    "            for k in channel_names:\n",
    "                if k is not i and k is not j:\n",
    "                    j_k=pearsonCorrelation[(j,k)]\n",
    "                    i_k=pearsonCorrelation[(i,k)]\n",
    "                    partial_corr=((i_j-(j_k*i_k))/math.sqrt((1-i_k*i_k)*(1-j_k*j_k)))\n",
    "                    list.append(partial_corr)\n",
    "            if min(list)>0.3:\n",
    "                partialCorrelation[(i,j)]=min(list)\n",
    "                matrix_list.append(1)\n",
    "            else:\n",
    "                partialCorrelation[(i,j)]=0\n",
    "                matrix_list.append(0)\n",
    "        adJMatrix.append(matrix_list)\n",
    "    input_list.append([adJMatrix, 0,features_total])\n",
    "    print(tmp)\n",
    "    tmp+=1"
   ]
  },
  {
   "cell_type": "code",
   "execution_count": 230,
   "metadata": {},
   "outputs": [
    {
     "name": "stdout",
     "output_type": "stream",
     "text": [
      "144\n",
      "145\n",
      "146\n",
      "147\n",
      "148\n",
      "149\n",
      "150\n",
      "151\n",
      "152\n",
      "153\n",
      "154\n",
      "155\n",
      "156\n",
      "157\n",
      "158\n",
      "159\n",
      "160\n",
      "161\n",
      "162\n",
      "163\n",
      "164\n",
      "165\n",
      "166\n",
      "167\n",
      "168\n",
      "169\n",
      "170\n",
      "171\n",
      "172\n",
      "173\n",
      "174\n",
      "175\n",
      "176\n",
      "177\n",
      "178\n",
      "179\n",
      "180\n",
      "181\n",
      "182\n",
      "183\n",
      "184\n",
      "185\n",
      "186\n",
      "187\n",
      "188\n",
      "189\n",
      "190\n",
      "191\n",
      "192\n",
      "193\n",
      "194\n",
      "195\n",
      "196\n",
      "197\n",
      "198\n",
      "199\n",
      "200\n",
      "201\n",
      "202\n",
      "203\n",
      "204\n",
      "205\n",
      "206\n",
      "207\n",
      "208\n",
      "209\n",
      "210\n",
      "211\n",
      "212\n",
      "213\n",
      "214\n",
      "215\n",
      "216\n",
      "217\n",
      "218\n",
      "219\n",
      "220\n",
      "221\n",
      "222\n",
      "223\n",
      "224\n",
      "225\n",
      "226\n",
      "227\n",
      "228\n",
      "229\n",
      "230\n",
      "231\n",
      "232\n",
      "233\n",
      "234\n",
      "235\n",
      "236\n",
      "237\n",
      "238\n",
      "239\n",
      "240\n",
      "241\n",
      "242\n",
      "243\n",
      "244\n",
      "245\n",
      "246\n",
      "247\n",
      "248\n",
      "249\n",
      "250\n",
      "251\n",
      "252\n",
      "253\n",
      "254\n",
      "255\n",
      "256\n",
      "257\n",
      "258\n",
      "259\n",
      "260\n",
      "261\n",
      "262\n",
      "263\n",
      "264\n",
      "265\n",
      "266\n",
      "267\n",
      "268\n",
      "269\n",
      "270\n",
      "271\n",
      "272\n",
      "273\n",
      "274\n",
      "275\n",
      "276\n",
      "277\n",
      "278\n",
      "279\n",
      "280\n",
      "281\n",
      "282\n",
      "283\n",
      "284\n",
      "285\n",
      "286\n",
      "287\n"
     ]
    }
   ],
   "source": [
    "ntrials = trials_csp[cl2].shape[2]\n",
    "for i in range(ntrials):\n",
    "    data = trials_csp[cl2][:,:,i].T\n",
    "    df = pd.DataFrame(data=data,columns=channel_names)\n",
    "    pearsonCorrelation={}\n",
    "    #adJMatrix=[]\n",
    "    for i in channel_names:\n",
    "        #matrix_list=[]\n",
    "        for j in channel_names:\n",
    "            x=df[i]\n",
    "            x_t=np.array(x).T\n",
    "            y=df[j]\n",
    "            y_t=np.array(y).T\n",
    "            r=np.corrcoef(x_t,y_t)\n",
    "            pearsonCorrelation[(i,j)]=r[0,1]\n",
    "    partialCorrelation=dict()\n",
    "    # adJMatrix is to store the Ajencency matrix\n",
    "    adJMatrix=[]\n",
    "    features_total=[]\n",
    "    for i in channel_names:\n",
    "        matrix_list=[]\n",
    "        features=[]\n",
    "        features.append(mean(df[i]))\n",
    "        features.append(statistics.median(df[i]))\n",
    "        features.append(np.std(np.array(df[i]).T, dtype = np.float64))\n",
    "        features.append(skew(df[i]))\n",
    "        features_total.append(features)\n",
    "        for j in channel_names:\n",
    "            list=[]\n",
    "            i_j=pearsonCorrelation[(i,j)]\n",
    "            for k in channel_names:\n",
    "                if k is not i and k is not j:\n",
    "                    j_k=pearsonCorrelation[(j,k)]\n",
    "                    i_k=pearsonCorrelation[(i,k)]\n",
    "                    partial_corr=((i_j-(j_k*i_k))/math.sqrt((1-i_k*i_k)*(1-j_k*j_k)))\n",
    "                    list.append(partial_corr)\n",
    "            if min(list)>0.3:\n",
    "                partialCorrelation[(i,j)]=min(list)\n",
    "                matrix_list.append(1)\n",
    "            else:\n",
    "                partialCorrelation[(i,j)]=0\n",
    "                matrix_list.append(0)\n",
    "        adJMatrix.append(matrix_list)\n",
    "    input_list.append([adJMatrix, 1,features_total])\n",
    "    print(tmp)\n",
    "    tmp+=1"
   ]
  },
  {
   "cell_type": "code",
   "execution_count": 231,
   "metadata": {},
   "outputs": [],
   "source": [
    "f = open(\"Bandpass+CSP+GNN_BNCI2014-002-1-PC\", \"wb\")\n",
    "random.shuffle(input_list)\n",
    "pickle.dump(input_list, f)\n",
    "f.close()"
   ]
  },
  {
   "cell_type": "code",
   "execution_count": 232,
   "metadata": {},
   "outputs": [
    {
     "name": "stdout",
     "output_type": "stream",
     "text": [
      "(288, 3)\n"
     ]
    },
    {
     "name": "stderr",
     "output_type": "stream",
     "text": [
      "/home/shukra/anaconda3/envs/test-1/lib/python3.6/site-packages/ipykernel_launcher.py:1: VisibleDeprecationWarning: Creating an ndarray from ragged nested sequences (which is a list-or-tuple of lists-or-tuples-or ndarrays with different lengths or shapes) is deprecated. If you meant to do this, you must specify 'dtype=object' when creating the ndarray\n",
      "  \"\"\"Entry point for launching an IPython kernel.\n"
     ]
    }
   ],
   "source": [
    "print(np.array(input_list).shape)"
   ]
  },
  {
   "cell_type": "code",
   "execution_count": null,
   "metadata": {},
   "outputs": [],
   "source": []
  }
 ],
 "metadata": {
  "kernelspec": {
   "display_name": "Python 3",
   "language": "python",
   "name": "python3"
  },
  "language_info": {
   "codemirror_mode": {
    "name": "ipython",
    "version": 3
   },
   "file_extension": ".py",
   "mimetype": "text/x-python",
   "name": "python",
   "nbconvert_exporter": "python",
   "pygments_lexer": "ipython3",
   "version": "3.6.9"
  }
 },
 "nbformat": 4,
 "nbformat_minor": 4
}
