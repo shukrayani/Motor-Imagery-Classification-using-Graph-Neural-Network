{
 "cells": [
  {
   "cell_type": "code",
   "execution_count": 60,
   "metadata": {},
   "outputs": [],
   "source": [
    "import pandas as pd\n",
    "import numpy as np\n",
    "import pickle\n",
    "import math\n",
    "import random\n",
    "from statistics import mean\n",
    "import statistics\n",
    "from scipy.stats import skew\n",
    "import math\n",
    "import networkx as nx\n",
    "from scipy.linalg import sqrtm\n",
    "from scipy.signal import butter, lfilter\n",
    "import scipy.io"
   ]
  },
  {
   "cell_type": "code",
   "execution_count": 61,
   "metadata": {},
   "outputs": [],
   "source": [
    "#loading continuous data of channels of subject aa\n",
    "channel = np.loadtxt(fname = \"/home/shukra/Desktop/MTP/MI Data/Binary class_MI data/aa/data_set_IVa_aa_cnt.txt\")\n",
    "#loading markers of subject aa\n",
    "markers= np.loadtxt(fname = \"/home/shukra/Desktop/MTP/MI Data/Binary class_MI data/aa/data_set_IVa_aa_mrk.txt\")"
   ]
  },
  {
   "cell_type": "code",
   "execution_count": 62,
   "metadata": {},
   "outputs": [
    {
     "name": "stdout",
     "output_type": "stream",
     "text": [
      "118 298458\n"
     ]
    }
   ],
   "source": [
    "sample_rate = 100\n",
    "EEG = channel.T\n",
    "nchannels, nsamples = EEG.shape\n",
    "channel_names = ['Fp1', 'AFp1', 'Fpz', 'AFp2', 'Fp2', 'AF7', 'AF3', 'AF4', 'AF8', 'FAF5', 'FAF1', 'FAF2', 'FAF6', \n",
    "                'F7', 'F5', 'F3', 'F1', 'Fz', 'F2', 'F4', 'F6', 'F8', 'FFC7', 'FFC5', 'FFC3', 'FFC1', 'FFC2', 'FFC4', \n",
    "                'FFC6', 'FFC8', 'FT9', 'FT7', 'FC5', 'FC3', 'FC1', 'FCz', 'FC2', 'FC4', 'FC6', 'FT8', 'FT10', 'CFC7', \n",
    "                'CFC5', 'CFC3', 'CFC1', 'CFC2', 'CFC4', 'CFC6', 'CFC8', 'T7', 'C5', 'C3', 'C1', 'Cz', 'C2', 'C4', 'C6'\n",
    "                , 'T8', 'CCP7', 'CCP5', 'CCP3', 'CCP1', 'CCP2', 'CCP4', 'CCP6', 'CCP8', 'TP9', 'TP7', 'CP5', 'CP3', 'CP1',\n",
    "                'CPz', 'CP2', 'CP4', 'CP6', 'TP8', 'TP10', 'PCP7', 'PCP5', 'PCP3', 'PCP1', 'PCP2', 'PCP4', 'PCP6', 'PCP8', \n",
    "                'P9', 'P7', 'P5', 'P3', 'P1', 'Pz', 'P2', 'P4', 'P6', 'P8', 'P10', 'PPO7', 'PPO5', 'PPO1', 'PPO2', 'PPO6',\n",
    "                'PPO8', 'PO7', 'PO3', 'PO1', 'POz', 'PO2', 'PO4', 'PO8', 'OPO1', 'OPO2', 'O1', 'Oz', 'O2', 'OI1', 'OI2', \n",
    "                'I1', 'I2']\n",
    "print(nchannels,nsamples)\n"
   ]
  },
  {
   "cell_type": "code",
   "execution_count": 63,
   "metadata": {},
   "outputs": [
    {
     "name": "stdout",
     "output_type": "stream",
     "text": [
      "(280, 2)\n",
      "[[4748, 5282, 6954, 8621, 9180, 9761, 10341, 11446, 12006, 12547, 13650, 14773, 15875, 16453, 17565, 20820, 21366, 24125, 24666, 26324, 26859, 27430, 27992, 28538, 29091, 29625, 30205, 30782, 31329, 31890, 32997, 33545, 34114, 36798, 37360, 37944, 39059, 39637, 41887, 42995, 43554, 44119, 45772, 46332, 47955, 48511, 49068, 49605, 50185, 52834, 53937, 54480, 55611, 56181, 56736, 58953, 59517, 60052, 60629, 61205, 61773, 62328, 62866, 63440, 63985, 65076, 65625, 66779, 67905, 68462, 76683, 77219, 78384, 79507, 80641, 81765, 82307, 82856, 83394, 83947, 85078, 85655, 86202, 86736, 87271, 87833, 88977, 107677, 108767, 109335, 110488, 111069, 111618, 112165, 112727, 114357, 114924, 116010, 116579, 117128, 117678, 118251, 119911, 120451, 123683, 124225, 125880, 126451, 127013, 128144, 130432, 131555, 132666, 133793, 134364, 134930, 136558, 137143, 139833, 140381, 140964, 141532, 142632, 143729, 144273, 144812, 145346, 146456, 147585, 148156, 149280, 149820, 150370, 150905, 151991, 152565, 153148, 153689, 154253, 155885, 162287, 164557, 165130, 165699, 166774, 167870, 168965, 169545, 171776, 172880, 174540, 175120, 175691, 178933, 180046, 181136, 181689, 182831, 183929, 184490, 185049, 185589, 186149, 187860, 189568, 190132, 190670, 191212]]\n",
      "[[1, 1, 2, 1, 1, 1, 2, 2, 1, 2, 2, 2, 2, 1, 2, 1, 2, 2, 1, 1, 1, 1, 2, 2, 1, 2, 2, 1, 2, 2, 2, 1, 1, 1, 2, 1, 2, 1, 1, 1, 2, 2, 2, 2, 2, 1, 1, 1, 1, 2, 2, 2, 1, 1, 1, 1, 2, 2, 1, 2, 2, 1, 2, 1, 1, 1, 2, 2, 1, 2, 2, 2, 1, 1, 2, 1, 1, 2, 1, 2, 2, 1, 1, 2, 2, 2, 2, 2, 2, 2, 1, 2, 1, 2, 1, 1, 1, 2, 1, 2, 1, 1, 1, 2, 2, 2, 2, 1, 1, 2, 1, 2, 1, 2, 2, 1, 1, 1, 1, 1, 2, 1, 1, 1, 1, 2, 1, 2, 1, 1, 1, 2, 2, 2, 2, 2, 1, 2, 2, 1, 2, 2, 2, 2, 1, 1, 2, 2, 2, 1, 1, 1, 1, 1, 2, 1, 2, 1, 2, 2, 2, 2, 1, 2, 2, 2, 2, 2]]\n"
     ]
    }
   ],
   "source": [
    "print(markers.shape)\n",
    "event_onsets = []\n",
    "event_codes = []\n",
    "# print(markers.T[1])\n",
    "for i in markers:\n",
    "    if i[1]!=0:\n",
    "        event_onsets.append(int(i[0]))\n",
    "        event_codes.append(int(i[1]))\n",
    "event_onsets=[event_onsets]\n",
    "event_codes=[event_codes]\n",
    "print(event_onsets)\n",
    "print(event_codes)"
   ]
  },
  {
   "cell_type": "code",
   "execution_count": 70,
   "metadata": {},
   "outputs": [
    {
     "name": "stdout",
     "output_type": "stream",
     "text": [
      "[[0 0 0 ... 0 0 0]]\n"
     ]
    }
   ],
   "source": [
    "labels = np.zeros((1, nsamples), int)\n",
    "print(labels)\n",
    "labels[0,event_onsets] = event_codes\n",
    "# labels = np.zeros((1,nsamples),int)\n",
    "# t=0\n",
    "# for ind,i in enumerate(labels):\n",
    "#     if ind==event_onsets[t]:\n",
    "#         labels[ind]=event_codes[t]\n",
    "#         t+=1"
   ]
  },
  {
   "cell_type": "code",
   "execution_count": 71,
   "metadata": {},
   "outputs": [],
   "source": [
    "cl_lab = ['right','foot']#[s[0] for s in m['nfo']['classes'][0][0][0]]\n",
    "cl1 = cl_lab[0]\n",
    "cl2 = cl_lab[1]\n",
    "nclasses = len(cl_lab)\n",
    "nevents = len(event_onsets)"
   ]
  },
  {
   "cell_type": "code",
   "execution_count": 72,
   "metadata": {},
   "outputs": [
    {
     "name": "stdout",
     "output_type": "stream",
     "text": [
      "Shape of EEG: (118, 298458)\n",
      "Sample rate: 100\n",
      "Number of channels: 118\n",
      "Channel names: ['Fp1', 'AFp1', 'Fpz', 'AFp2', 'Fp2', 'AF7', 'AF3', 'AF4', 'AF8', 'FAF5', 'FAF1', 'FAF2', 'FAF6', 'F7', 'F5', 'F3', 'F1', 'Fz', 'F2', 'F4', 'F6', 'F8', 'FFC7', 'FFC5', 'FFC3', 'FFC1', 'FFC2', 'FFC4', 'FFC6', 'FFC8', 'FT9', 'FT7', 'FC5', 'FC3', 'FC1', 'FCz', 'FC2', 'FC4', 'FC6', 'FT8', 'FT10', 'CFC7', 'CFC5', 'CFC3', 'CFC1', 'CFC2', 'CFC4', 'CFC6', 'CFC8', 'T7', 'C5', 'C3', 'C1', 'Cz', 'C2', 'C4', 'C6', 'T8', 'CCP7', 'CCP5', 'CCP3', 'CCP1', 'CCP2', 'CCP4', 'CCP6', 'CCP8', 'TP9', 'TP7', 'CP5', 'CP3', 'CP1', 'CPz', 'CP2', 'CP4', 'CP6', 'TP8', 'TP10', 'PCP7', 'PCP5', 'PCP3', 'PCP1', 'PCP2', 'PCP4', 'PCP6', 'PCP8', 'P9', 'P7', 'P5', 'P3', 'P1', 'Pz', 'P2', 'P4', 'P6', 'P8', 'P10', 'PPO7', 'PPO5', 'PPO1', 'PPO2', 'PPO6', 'PPO8', 'PO7', 'PO3', 'PO1', 'POz', 'PO2', 'PO4', 'PO8', 'OPO1', 'OPO2', 'O1', 'Oz', 'O2', 'OI1', 'OI2', 'I1', 'I2']\n",
      "Number of events: 1\n",
      "Event codes: [1 2]\n",
      "Class labels: ['right', 'foot']\n",
      "Number of classes: 2\n"
     ]
    }
   ],
   "source": [
    "# Print some information\n",
    "print('Shape of EEG:', EEG.shape)\n",
    "print('Sample rate:', sample_rate)\n",
    "print('Number of channels:', nchannels)\n",
    "print('Channel names:', channel_names)\n",
    "print('Number of events:', len(event_onsets))\n",
    "print('Event codes:', np.unique(event_codes))\n",
    "print('Class labels:', cl_lab)\n",
    "print('Number of classes:', nclasses)"
   ]
  },
  {
   "cell_type": "code",
   "execution_count": 73,
   "metadata": {},
   "outputs": [],
   "source": [
    "# Dictionary to store the trials in, each class gets an entry\n",
    "trials = {}\n",
    "\n",
    "# The time window (in samples) to extract for each trial, here 0.5 -- 3.5 seconds\n",
    "win = np.arange(int(0.5*sample_rate), int(3.5*sample_rate))"
   ]
  },
  {
   "cell_type": "code",
   "execution_count": 74,
   "metadata": {},
   "outputs": [
    {
     "name": "stdout",
     "output_type": "stream",
     "text": [
      "300\n"
     ]
    }
   ],
   "source": [
    "print(len(win))"
   ]
  },
  {
   "cell_type": "code",
   "execution_count": 86,
   "metadata": {},
   "outputs": [
    {
     "name": "stdout",
     "output_type": "stream",
     "text": [
      "Shape of trials[cl1]: (118, 300, 80)\n",
      "Shape of trials[cl2]: (118, 300, 88)\n"
     ]
    }
   ],
   "source": [
    "# Dictionary to store the trials in, each class gets an entry\n",
    "trials = {}\n",
    "\n",
    "# The time window (in samples) to extract for each trial, here 0.5 -- 2.5 seconds\n",
    "win = np.arange(int(0.5*sample_rate), int(3.5*sample_rate))\n",
    "\n",
    "# Length of the time window\n",
    "nsamples = len(win)\n",
    "\n",
    "# Loop over the classes (right, foot)\n",
    "for cl, code in zip(cl_lab, np.unique(event_codes)):\n",
    "    event_codes = np.array(event_codes)\n",
    "    event_onsets = np.array(event_onsets)\n",
    "    # Extract the onsets for the class\n",
    "    cl_onsets = event_onsets[event_codes == code]\n",
    "#     print(cl_onsets)\n",
    "    # Allocate memory for the trials\n",
    "    trials[cl] = np.zeros((nchannels, nsamples, len(cl_onsets)))\n",
    "    \n",
    "    # Extract each trial\n",
    "    for i, onset in enumerate(cl_onsets):\n",
    "        trials[cl][:,:,i] = EEG[:, win+onset]\n",
    "  \n",
    "# Some information about the dimensionality of the data (channels x time x trials)\n",
    "print('Shape of trials[cl1]:', trials[cl1].shape)\n",
    "print('Shape of trials[cl2]:', trials[cl2].shape)"
   ]
  },
  {
   "cell_type": "code",
   "execution_count": 125,
   "metadata": {},
   "outputs": [],
   "source": [
    "from matplotlib import mlab\n",
    "\n",
    "def psd(trials):\n",
    "    '''\n",
    "    Calculates for each trial the Power Spectral Density (PSD).\n",
    "    \n",
    "    Parameters\n",
    "    ----------\n",
    "    trials : 3d-array (channels x samples x trials)\n",
    "        The EEG signal\n",
    "    \n",
    "    Returns\n",
    "    -------\n",
    "    trial_PSD : 3d-array (channels x PSD x trials)\n",
    "        the PSD for each trial.  \n",
    "    freqs : list of floats\n",
    "        Yhe frequencies for which the PSD was computed (useful for plotting later)\n",
    "    '''\n",
    "    \n",
    "    ntrials = trials.shape[2]\n",
    "#     print(ntrials)\n",
    "    trials_PSD = np.zeros((nchannels, 151, ntrials))\n",
    "\n",
    "    # Iterate over trials and channels\n",
    "    for trial in range(ntrials):\n",
    "        for ch in range(nchannels):\n",
    "            # Calculate the PSD\n",
    "            (PSD, freqs) = mlab.psd(trials[ch,:,trial], NFFT=int(nsamples), Fs=sample_rate)\n",
    "            trials_PSD[ch, :, trial] = PSD.ravel()\n",
    "                \n",
    "    return trials_PSD, freqs"
   ]
  },
  {
   "cell_type": "code",
   "execution_count": 126,
   "metadata": {},
   "outputs": [
    {
     "name": "stdout",
     "output_type": "stream",
     "text": [
      "80\n",
      "88\n",
      "(118, 151, 80)\n"
     ]
    }
   ],
   "source": [
    "# Apply the function\n",
    "psd_r, freqs = psd(trials[cl1])\n",
    "psd_f, freqs = psd(trials[cl2])\n",
    "trials_PSD = {cl1: psd_r, cl2: psd_f}\n",
    "print(psd_r.shape)"
   ]
  },
  {
   "cell_type": "code",
   "execution_count": 127,
   "metadata": {},
   "outputs": [],
   "source": [
    "import matplotlib.pyplot as plt\n",
    "\n",
    "def plot_psd(trials_PSD, freqs, chan_ind, chan_lab=None, maxy=None):\n",
    "    '''\n",
    "    Plots PSD data calculated with psd().\n",
    "    \n",
    "    Parameters\n",
    "    ----------\n",
    "    trials : 3d-array\n",
    "        The PSD data, as returned by psd()\n",
    "    freqs : list of floats\n",
    "        The frequencies for which the PSD is defined, as returned by psd() \n",
    "    chan_ind : list of integers\n",
    "        The indices of the channels to plot\n",
    "    chan_lab : list of strings\n",
    "        (optional) List of names for each channel\n",
    "    maxy : float\n",
    "        (optional) Limit the y-axis to this value\n",
    "    '''\n",
    "    plt.figure(figsize=(12,5))\n",
    "    \n",
    "    nchans = len(chan_ind)\n",
    "    \n",
    "    # Maximum of 3 plots per row\n",
    "    nrows = np.ceil(nchans / 3)\n",
    "    ncols = min(3, nchans)\n",
    "    \n",
    "    # Enumerate over the channels\n",
    "    for i,ch in enumerate(chan_ind):\n",
    "        # Figure out which subplot to draw to\n",
    "        plt.subplot(nrows,ncols,i+1)\n",
    "    \n",
    "        # Plot the PSD for each class\n",
    "        for cl in trials.keys():\n",
    "            plt.plot(freqs, np.mean(trials_PSD[cl][ch,:,:], axis=1), label=cl)\n",
    "    \n",
    "        # All plot decoration below...\n",
    "        \n",
    "        plt.xlim(1,30)\n",
    "        \n",
    "        if maxy != None:\n",
    "            plt.ylim(0,maxy)\n",
    "    \n",
    "        plt.grid()\n",
    "    \n",
    "        plt.xlabel('Frequency (Hz)')\n",
    "        \n",
    "        if chan_lab == None:\n",
    "            plt.title('Channel %d' % (ch+1))\n",
    "        else:\n",
    "            plt.title(chan_lab[i])\n",
    "\n",
    "        plt.legend()\n",
    "        \n",
    "    plt.tight_layout()"
   ]
  },
  {
   "cell_type": "code",
   "execution_count": 128,
   "metadata": {},
   "outputs": [
    {
     "name": "stderr",
     "output_type": "stream",
     "text": [
      "/home/shukra/anaconda3/envs/test-1/lib/python3.6/site-packages/ipykernel_launcher.py:31: MatplotlibDeprecationWarning: Passing non-integers as three-element position specification is deprecated since 3.3 and will be removed two minor releases later.\n",
      "/home/shukra/anaconda3/envs/test-1/lib/python3.6/site-packages/ipykernel_launcher.py:31: MatplotlibDeprecationWarning: Passing non-integers as three-element position specification is deprecated since 3.3 and will be removed two minor releases later.\n",
      "/home/shukra/anaconda3/envs/test-1/lib/python3.6/site-packages/ipykernel_launcher.py:31: MatplotlibDeprecationWarning: Passing non-integers as three-element position specification is deprecated since 3.3 and will be removed two minor releases later.\n"
     ]
    },
    {
     "name": "stdout",
     "output_type": "stream",
     "text": [
      "[51, 53, 55]\n"
     ]
    },
    {
     "data": {
      "image/png": "[encoded data removed]",
      "text/plain": [
       "<Figure size 864x360 with 3 Axes>"
      ]
     },
     "metadata": {
      "needs_background": "light"
     },
     "output_type": "display_data"
    }
   ],
   "source": [
    "plot_psd(\n",
    "    trials_PSD,\n",
    "    freqs,\n",
    "    [channel_names.index(ch) for ch in ['C3', 'Cz', 'C4']],\n",
    "    chan_lab=['left', 'center', 'right'],\n",
    "    maxy=500\n",
    ")"
   ]
  },
  {
   "cell_type": "code",
   "execution_count": 94,
   "metadata": {},
   "outputs": [],
   "source": [
    "import scipy.signal \n",
    "\n",
    "def bandpass(trials, lo, hi, sample_rate):\n",
    "    '''\n",
    "    Designs and applies a bandpass filter to the signal.\n",
    "    \n",
    "    Parameters\n",
    "    ----------\n",
    "    trials : 3d-array (channels x samples x trials)\n",
    "        The EEGsignal\n",
    "    lo : float\n",
    "        Lower frequency bound (in Hz)\n",
    "    hi : float\n",
    "        Upper frequency bound (in Hz)\n",
    "    sample_rate : float\n",
    "        Sample rate of the signal (in Hz)\n",
    "    \n",
    "    Returns\n",
    "    -------\n",
    "    trials_filt : 3d-array (channels x samples x trials)\n",
    "        The bandpassed signal\n",
    "    '''\n",
    "\n",
    "    # The iirfilter() function takes the filter order: higher numbers mean a sharper frequency cutoff,\n",
    "    # but the resulting signal might be shifted in time, lower numbers mean a soft frequency cutoff,\n",
    "    # but the resulting signal less distorted in time. It also takes the lower and upper frequency bounds\n",
    "    # to pass, divided by the niquist frequency, which is the sample rate divided by 2:\n",
    "    a, b = scipy.signal.iirfilter(6, [lo/(sample_rate/2.0), hi/(sample_rate/2.0)])\n",
    "\n",
    "    # Applying the filter to each trial\n",
    "    ntrials = trials.shape[2]\n",
    "    trials_filt = np.zeros((nchannels, nsamples, ntrials))\n",
    "    for i in range(ntrials):\n",
    "        trials_filt[:,:,i] = scipy.signal.filtfilt(a, b, trials[:,:,i], axis=1)\n",
    "    \n",
    "    return trials_filt"
   ]
  },
  {
   "cell_type": "code",
   "execution_count": 95,
   "metadata": {},
   "outputs": [],
   "source": [
    "# Apply the function\n",
    "trials_filt = {cl1: bandpass(trials[cl1], 8, 15, sample_rate),\n",
    "               cl2: bandpass(trials[cl2], 8, 15, sample_rate)}"
   ]
  },
  {
   "cell_type": "code",
   "execution_count": 96,
   "metadata": {},
   "outputs": [
    {
     "name": "stderr",
     "output_type": "stream",
     "text": [
      "/home/shukra/anaconda3/envs/test-1/lib/python3.6/site-packages/ipykernel_launcher.py:31: MatplotlibDeprecationWarning: Passing non-integers as three-element position specification is deprecated since 3.3 and will be removed two minor releases later.\n",
      "/home/shukra/anaconda3/envs/test-1/lib/python3.6/site-packages/ipykernel_launcher.py:31: MatplotlibDeprecationWarning: Passing non-integers as three-element position specification is deprecated since 3.3 and will be removed two minor releases later.\n",
      "/home/shukra/anaconda3/envs/test-1/lib/python3.6/site-packages/ipykernel_launcher.py:31: MatplotlibDeprecationWarning: Passing non-integers as three-element position specification is deprecated since 3.3 and will be removed two minor releases later.\n"
     ]
    },
    {
     "data": {
      "image/png": "[encoded data removed]",
      "text/plain": [
       "<Figure size 864x360 with 3 Axes>"
      ]
     },
     "metadata": {
      "needs_background": "light"
     },
     "output_type": "display_data"
    }
   ],
   "source": [
    "psd_r, freqs = psd(trials_filt[cl1])\n",
    "psd_f, freqs = psd(trials_filt[cl2])\n",
    "trials_PSD = {cl1: psd_r, cl2: psd_f}\n",
    "\n",
    "plot_psd(\n",
    "    trials_PSD,\n",
    "    freqs,\n",
    "    [channel_names.index(ch) for ch in ['C3', 'Cz', 'C4']],\n",
    "    chan_lab=['left', 'center', 'right'],\n",
    "    maxy=300\n",
    ")"
   ]
  },
  {
   "cell_type": "code",
   "execution_count": 131,
   "metadata": {},
   "outputs": [],
   "source": [
    "# Calculate the log(var) of the trials\n",
    "def logvar(trials):\n",
    "    '''\n",
    "    Calculate the log-var of each channel.\n",
    "    \n",
    "    Parameters\n",
    "    ----------\n",
    "    trials : 3d-array (channels x samples x trials)\n",
    "        The EEG signal.\n",
    "        \n",
    "    Returns\n",
    "    -------\n",
    "    logvar - 2d-array (channels x trials)\n",
    "        For each channel the logvar of the signal\n",
    "    '''\n",
    "#     print(np.log(np.var(trials[0], axis=1)).shape)\n",
    "    return np.log(np.var(trials, axis=1))"
   ]
  },
  {
   "cell_type": "code",
   "execution_count": 133,
   "metadata": {},
   "outputs": [
    {
     "name": "stdout",
     "output_type": "stream",
     "text": [
      "(300,)\n",
      "(300,)\n",
      "(118, 80)\n"
     ]
    }
   ],
   "source": [
    "# Apply the function\n",
    "trials_logvar = {cl1: logvar(trials_filt[cl1]),\n",
    "                 cl2: logvar(trials_filt[cl2])}\n",
    "print(trials_logvar['right'].shape)"
   ]
  },
  {
   "cell_type": "code",
   "execution_count": 99,
   "metadata": {},
   "outputs": [],
   "source": [
    "def plot_logvar(trials):\n",
    "    '''\n",
    "    Plots the log-var of each channel/component.\n",
    "    arguments:\n",
    "        trials - Dictionary containing the trials (log-vars x trials) for 2 classes.\n",
    "    '''\n",
    "    plt.figure(figsize=(12,5))\n",
    "    \n",
    "    x0 = np.arange(nchannels)\n",
    "    x1 = np.arange(nchannels) + 0.4\n",
    "\n",
    "    y0 = np.mean(trials[cl1], axis=1)\n",
    "    y1 = np.mean(trials[cl2], axis=1)\n",
    "\n",
    "    plt.bar(x0, y0, width=0.5, color='b')\n",
    "    plt.bar(x1, y1, width=0.4, color='r')\n",
    "\n",
    "    plt.xlim(-0.5, nchannels+0.5)\n",
    "\n",
    "    plt.gca().yaxis.grid(True)\n",
    "    plt.title('log-var of each channel/component')\n",
    "    plt.xlabel('channels/components')\n",
    "    plt.ylabel('log-var')\n",
    "    plt.legend(cl_lab)"
   ]
  },
  {
   "cell_type": "code",
   "execution_count": 100,
   "metadata": {},
   "outputs": [
    {
     "data": {
      "image/png": "[encoded data removed]",
      "text/plain": [
       "<Figure size 864x360 with 1 Axes>"
      ]
     },
     "metadata": {
      "needs_background": "light"
     },
     "output_type": "display_data"
    }
   ],
   "source": [
    "# Plot the log-vars\n",
    "plot_logvar(trials_logvar)"
   ]
  },
  {
   "cell_type": "code",
   "execution_count": 136,
   "metadata": {},
   "outputs": [],
   "source": [
    "from numpy import linalg\n",
    "\n",
    "def cov(trials):\n",
    "    ''' Calculate the covariance for each trial and return their average '''\n",
    "    ntrials = trials.shape[2]\n",
    "    covs = [ trials[:,:,i].dot(trials[:,:,i].T) / nsamples for i in range(ntrials) ]\n",
    "    return np.mean(covs, axis=0)\n",
    "\n",
    "def whitening(sigma):\n",
    "    ''' Calculate a whitening matrix for covariance matrix sigma. '''\n",
    "    U, l, _ = linalg.svd(sigma)\n",
    "    return U.dot( np.diag(l ** -0.5) )\n",
    "\n",
    "def csp(trials_r, trials_f):\n",
    "    '''\n",
    "    Calculate the CSP transformation matrix W.\n",
    "    arguments:\n",
    "        trials_r - Array (channels x samples x trials) containing right hand movement trials\n",
    "        trials_f - Array (channels x samples x trials) containing foot movement trials\n",
    "    returns:\n",
    "        Mixing matrix W\n",
    "    '''\n",
    "    cov_r = cov(trials_r)\n",
    "#     print(cov_r)\n",
    "    cov_f = cov(trials_f)\n",
    "    P = whitening(cov_r + cov_f)\n",
    "    B, _, _ = linalg.svd( P.T.dot(cov_f).dot(P) )\n",
    "    W = P.dot(B)\n",
    "    return W\n",
    "\n",
    "def apply_mix(W, trials):\n",
    "    ''' Apply a mixing matrix to each trial (basically multiply W with the EEG signal matrix)'''\n",
    "    ntrials = trials.shape[2]\n",
    "    trials_csp = np.zeros((nchannels, nsamples, ntrials))\n",
    "    for i in range(ntrials):\n",
    "        trials_csp[:,:,i] = W.T.dot(trials[:,:,i])\n",
    "    return trials_csp"
   ]
  },
  {
   "cell_type": "code",
   "execution_count": 138,
   "metadata": {},
   "outputs": [
    {
     "name": "stdout",
     "output_type": "stream",
     "text": [
      "(118, 300, 80)\n"
     ]
    }
   ],
   "source": [
    "# Apply the functions\n",
    "W = csp(trials_filt[cl1], trials_filt[cl2])\n",
    "trials_csp = {cl1: apply_mix(W, trials_filt[cl1]),\n",
    "              cl2: apply_mix(W, trials_filt[cl2])}\n",
    "print(trials_csp[cl1].shape)"
   ]
  },
  {
   "cell_type": "code",
   "execution_count": 103,
   "metadata": {},
   "outputs": [
    {
     "data": {
      "image/png": "[encoded data removed]",
      "text/plain": [
       "<Figure size 864x360 with 1 Axes>"
      ]
     },
     "metadata": {
      "needs_background": "light"
     },
     "output_type": "display_data"
    }
   ],
   "source": [
    "trials_logvar = {cl1: logvar(trials_csp[cl1]),\n",
    "                 cl2: logvar(trials_csp[cl2])}\n",
    "plot_logvar(trials_logvar)"
   ]
  },
  {
   "cell_type": "code",
   "execution_count": 104,
   "metadata": {},
   "outputs": [
    {
     "name": "stderr",
     "output_type": "stream",
     "text": [
      "/home/shukra/anaconda3/envs/test-1/lib/python3.6/site-packages/ipykernel_launcher.py:31: MatplotlibDeprecationWarning: Passing non-integers as three-element position specification is deprecated since 3.3 and will be removed two minor releases later.\n",
      "/home/shukra/anaconda3/envs/test-1/lib/python3.6/site-packages/ipykernel_launcher.py:31: MatplotlibDeprecationWarning: Passing non-integers as three-element position specification is deprecated since 3.3 and will be removed two minor releases later.\n",
      "/home/shukra/anaconda3/envs/test-1/lib/python3.6/site-packages/ipykernel_launcher.py:31: MatplotlibDeprecationWarning: Passing non-integers as three-element position specification is deprecated since 3.3 and will be removed two minor releases later.\n"
     ]
    },
    {
     "data": {
      "image/png": "[encoded data removed]",
      "text/plain": [
       "<Figure size 864x360 with 3 Axes>"
      ]
     },
     "metadata": {
      "needs_background": "light"
     },
     "output_type": "display_data"
    }
   ],
   "source": [
    "psd_r, freqs = psd(trials_csp[cl1])\n",
    "psd_f, freqs = psd(trials_csp[cl2])\n",
    "trials_PSD = {cl1: psd_r, cl2: psd_f}\n",
    "\n",
    "plot_psd(trials_PSD, freqs, [0,58,-1], chan_lab=['first component', 'middle component', 'last component'], maxy=0.75 )\n"
   ]
  },
  {
   "cell_type": "code",
   "execution_count": 105,
   "metadata": {},
   "outputs": [],
   "source": [
    "def plot_scatter(left, foot):\n",
    "    plt.figure()\n",
    "    plt.scatter(left[0,:], left[-1,:], color='b')\n",
    "    plt.scatter(foot[0,:], foot[-1,:], color='r')\n",
    "    plt.xlabel('Last component')\n",
    "    plt.ylabel('First component')\n",
    "    plt.legend(cl_lab)"
   ]
  },
  {
   "cell_type": "code",
   "execution_count": 106,
   "metadata": {},
   "outputs": [
    {
     "data": {
      "image/png": "[encoded data removed]",
      "text/plain": [
       "<Figure size 432x288 with 1 Axes>"
      ]
     },
     "metadata": {
      "needs_background": "light"
     },
     "output_type": "display_data"
    }
   ],
   "source": [
    "plot_scatter(trials_logvar[cl1], trials_logvar[cl2])\n"
   ]
  },
  {
   "cell_type": "code",
   "execution_count": 107,
   "metadata": {},
   "outputs": [],
   "source": [
    "# Percentage of trials to use for training (50-50 split here)\n",
    "train_percentage = 0.5 \n",
    "\n",
    "# Calculate the number of trials for each class the above percentage boils down to\n",
    "ntrain_r = int(trials_filt[cl1].shape[2] * train_percentage)\n",
    "ntrain_f = int(trials_filt[cl2].shape[2] * train_percentage)\n",
    "ntest_r = trials_filt[cl1].shape[2] - ntrain_r\n",
    "ntest_f = trials_filt[cl2].shape[2] - ntrain_f\n",
    "\n",
    "# Splitting the frequency filtered signal into a train and test set\n",
    "train = {cl1: trials_filt[cl1][:,:,:ntrain_r],\n",
    "         cl2: trials_filt[cl2][:,:,:ntrain_f]}\n",
    "\n",
    "test = {cl1: trials_filt[cl1][:,:,ntrain_r:],\n",
    "        cl2: trials_filt[cl2][:,:,ntrain_f:]}\n",
    "\n",
    "# Train the CSP on the training set only\n",
    "W = csp(train[cl1], train[cl2])\n",
    "\n",
    "# Apply the CSP on both the training and test set\n",
    "train[cl1] = apply_mix(W, train[cl1])\n",
    "train[cl2] = apply_mix(W, train[cl2])\n",
    "test[cl1] = apply_mix(W, test[cl1])\n",
    "test[cl2] = apply_mix(W, test[cl2])\n",
    "\n",
    "# Select only the first and last components for classification\n",
    "comp = np.array([0,-1])\n",
    "train[cl1] = train[cl1][comp,:,:]\n",
    "train[cl2] = train[cl2][comp,:,:]\n",
    "test[cl1] = test[cl1][comp,:,:]\n",
    "test[cl2] = test[cl2][comp,:,:]\n",
    "\n",
    "# Calculate the log-var\n",
    "train[cl1] = logvar(train[cl1])\n",
    "train[cl2] = logvar(train[cl2])\n",
    "test[cl1] = logvar(test[cl1])\n",
    "test[cl2] = logvar(test[cl2])"
   ]
  },
  {
   "cell_type": "code",
   "execution_count": 117,
   "metadata": {},
   "outputs": [],
   "source": [
    "def train_lda(class1, class2):\n",
    "    print(\"class1:\",class1)\n",
    "    print(\"class2:\",class2)\n",
    "    \n",
    "    '''\n",
    "    Trains the LDA algorithm.\n",
    "    arguments:\n",
    "        class1 - An array (observations x features) for class 1\n",
    "        class2 - An array (observations x features) for class 2\n",
    "    returns:\n",
    "        The projection matrix W\n",
    "        The offset b\n",
    "    '''\n",
    "    nclasses = 2\n",
    "    \n",
    "    nclass1 = class1.shape[0]\n",
    "    nclass2 = class2.shape[0]\n",
    "    \n",
    "    # Class priors: in this case, we have an equal number of training\n",
    "    # examples for each class, so both priors are 0.5\n",
    "    prior1 = nclass1 / float(nclass1 + nclass2)\n",
    "    prior2 = nclass2 / float(nclass1 + nclass1)\n",
    "   \n",
    "    mean1 = np.mean(class1, axis=0)\n",
    "    mean2 = np.mean(class2, axis=0)\n",
    "    \n",
    "    class1_centered = class1 - mean1\n",
    "    class2_centered = class2 - mean2\n",
    "    \n",
    "    # Calculate the covariance between the features\n",
    "    cov1 = class1_centered.T.dot(class1_centered) / (nclass1 - nclasses)\n",
    "    cov2 = class2_centered.T.dot(class2_centered) / (nclass2 - nclasses)\n",
    "   \n",
    "    W = (mean2 - mean1).dot(np.linalg.pinv(prior1*cov1 + prior2*cov2))\n",
    "    b = (prior1*mean1 + prior2*mean2).dot(W)\n",
    "    \n",
    "    return (W,b)\n",
    "\n",
    "def apply_lda(test, W, b):\n",
    "    '''\n",
    "    Applies a previously trained LDA to new data.\n",
    "    arguments:\n",
    "        test - An array (features x trials) containing the data\n",
    "        W    - The project matrix W as calculated by train_lda()\n",
    "        b    - The offsets b as calculated by train_lda()\n",
    "    returns:\n",
    "        A list containing a classlabel for each trial\n",
    "    '''\n",
    "    ntrials = test.shape[1]\n",
    "    \n",
    "    prediction = []\n",
    "    for i in range(ntrials):\n",
    "        # The line below is a generalization for:\n",
    "        # result = W[0] * test[0,i] + W[1] * test[1,i] - b\n",
    "        result = W.dot(test[:,i]) - b\n",
    "        if result <= 0:\n",
    "            prediction.append(1)\n",
    "        else:\n",
    "            prediction.append(2)\n",
    "    \n",
    "    return np.array(prediction)\n"
   ]
  },
  {
   "cell_type": "code",
   "execution_count": 118,
   "metadata": {},
   "outputs": [
    {
     "name": "stdout",
     "output_type": "stream",
     "text": [
      "class1: [[-1.9169326  -1.28610758]\n",
      " [-1.94432063 -1.0442549 ]\n",
      " [-1.79877707 -0.89340877]\n",
      " [-1.49409442 -0.70994073]\n",
      " [-1.87220562 -1.06097965]\n",
      " [-1.65504832 -0.79952403]\n",
      " [-1.42441186 -0.82127243]\n",
      " [-1.63592465  0.88827661]\n",
      " [-1.57661286 -0.77050332]\n",
      " [-1.95538132 -0.20495481]\n",
      " [-2.03065778 -0.22743762]\n",
      " [-1.88641495 -0.87032549]\n",
      " [-1.58354538 -1.24313004]\n",
      " [-1.81380208 -0.49420163]\n",
      " [-1.6541794  -0.72171063]\n",
      " [-1.64715375 -0.36098368]\n",
      " [-1.19062353  1.25008569]\n",
      " [-1.48235955  0.05616181]\n",
      " [-0.99646257 -0.29499143]\n",
      " [-1.12150894 -0.79331267]\n",
      " [-1.45398418 -1.038832  ]\n",
      " [-1.67901536 -0.65615222]\n",
      " [-0.64660317 -0.67737159]\n",
      " [-1.3482761  -0.4672226 ]\n",
      " [-1.25312249 -0.73659226]\n",
      " [-2.07530465 -0.83475778]\n",
      " [-1.45815181 -0.76629382]\n",
      " [-0.97080196 -0.47354404]\n",
      " [-1.94893371  0.171876  ]\n",
      " [-1.46503368  0.30662435]\n",
      " [-1.89823483 -0.57441497]\n",
      " [-1.21384953 -0.43745064]\n",
      " [-1.89022107 -0.61787016]\n",
      " [-1.37476736  0.2856626 ]\n",
      " [-1.70170301 -0.94277783]\n",
      " [-1.80119358 -0.97903905]\n",
      " [-1.89870287 -0.88390851]\n",
      " [-1.34398427 -0.7667258 ]\n",
      " [-1.58753648 -0.77161641]\n",
      " [-1.29775711 -0.84425915]]\n",
      "class2: [[-1.14126845 -1.29749534]\n",
      " [ 0.79671141 -1.20546345]\n",
      " [-0.31831833 -1.77754767]\n",
      " [-0.56253151 -1.28493174]\n",
      " [-0.72145156 -1.05392653]\n",
      " [-0.43554307 -0.41223442]\n",
      " [-0.5444823  -1.47757424]\n",
      " [-1.02275277 -1.7985685 ]\n",
      " [-0.01437497 -0.41912068]\n",
      " [ 0.23266084 -1.29428158]\n",
      " [-0.14401193 -1.29464138]\n",
      " [ 0.40596578 -1.27787047]\n",
      " [ 0.78357739 -1.76124248]\n",
      " [ 0.31191445 -1.01861159]\n",
      " [ 0.1566918  -0.79533797]\n",
      " [-1.01538323 -1.23966218]\n",
      " [-0.52579828 -1.34529738]\n",
      " [-0.70269367 -0.58326196]\n",
      " [-0.15300442 -1.18818907]\n",
      " [-0.50114566 -1.40233942]\n",
      " [-1.24738597 -1.25303936]\n",
      " [-0.24269766 -1.53366483]\n",
      " [ 0.02372209 -1.82333427]\n",
      " [-0.9911102  -1.24088992]\n",
      " [-0.32888353 -0.85595837]\n",
      " [-0.40192427 -1.3748311 ]\n",
      " [-0.60049473 -1.47796657]\n",
      " [ 0.56165434 -0.6775451 ]\n",
      " [-0.36779149 -0.85521767]\n",
      " [-0.58685517 -1.63367416]\n",
      " [-1.15860952 -0.98366299]\n",
      " [-0.27475669 -1.04294328]\n",
      " [ 0.07329043 -0.81918947]\n",
      " [-0.82075578 -1.09553877]\n",
      " [ 0.03044309 -1.26668921]\n",
      " [-1.22845088 -1.5877292 ]\n",
      " [-1.39325506 -1.61756207]\n",
      " [-0.76150359 -1.71143914]\n",
      " [-0.96927872 -1.54980178]\n",
      " [-0.45875835 -1.26503769]\n",
      " [-0.70121956 -1.38461545]\n",
      " [-0.2769546  -1.62979123]\n",
      " [ 0.24630354 -1.10693294]\n",
      " [-0.46833245 -1.00762689]]\n",
      "W: [ 6.16665326 -4.39403807]\n",
      "b: -1.8077887497951768\n"
     ]
    }
   ],
   "source": [
    "W,b = train_lda(train[cl1].T, train[cl2].T)\n",
    "\n",
    "print('W:', W)\n",
    "print('b:', b)\n"
   ]
  },
  {
   "cell_type": "code",
   "execution_count": 112,
   "metadata": {},
   "outputs": [
    {
     "data": {
      "text/plain": [
       "(-2.2, 1.0)"
      ]
     },
     "execution_count": 112,
     "metadata": {},
     "output_type": "execute_result"
    },
    {
     "data": {
      "image/png": "[encoded data removed]",
      "text/plain": [
       "<Figure size 432x288 with 1 Axes>"
      ]
     },
     "metadata": {
      "needs_background": "light"
     },
     "output_type": "display_data"
    }
   ],
   "source": [
    "# Scatterplot like before\n",
    "plot_scatter(train[cl1], train[cl2])\n",
    "# title('Training data')\n",
    "\n",
    "# Calculate decision boundary (x,y)\n",
    "x = np.arange(-5, 1, 0.1)\n",
    "y = (b - W[0]*x) / W[1]\n",
    "\n",
    "# Plot the decision boundary\n",
    "plt.plot(x,y, linestyle='--', linewidth=2, color='k')\n",
    "plt.xlim(-5, 1)\n",
    "plt.ylim(-2.2, 1)"
   ]
  },
  {
   "cell_type": "code",
   "execution_count": 113,
   "metadata": {},
   "outputs": [
    {
     "data": {
      "text/plain": [
       "(-2.2, 1.0)"
      ]
     },
     "execution_count": 113,
     "metadata": {},
     "output_type": "execute_result"
    },
    {
     "data": {
      "image/png": "[encoded data removed]",
      "text/plain": [
       "<Figure size 432x288 with 1 Axes>"
      ]
     },
     "metadata": {
      "needs_background": "light"
     },
     "output_type": "display_data"
    }
   ],
   "source": [
    "plot_scatter(test[cl1], test[cl2])\n",
    "# title('Test data')\n",
    "plt.plot(x,y, linestyle='--', linewidth=2, color='k')\n",
    "plt.xlim(-5, 1)\n",
    "plt.ylim(-2.2, 1)"
   ]
  },
  {
   "cell_type": "code",
   "execution_count": 114,
   "metadata": {},
   "outputs": [
    {
     "name": "stdout",
     "output_type": "stream",
     "text": [
      "Confusion matrix:\n",
      "[[32  1]\n",
      " [ 8 43]]\n",
      "\n",
      "Accuracy: 0.893\n"
     ]
    }
   ],
   "source": [
    "conf = np.array([\n",
    "    [(apply_lda(test[cl1], W, b) == 1).sum(), (apply_lda(test[cl2], W, b) == 1).sum()],\n",
    "    [(apply_lda(test[cl1], W, b) == 2).sum(), (apply_lda(test[cl2], W, b) == 2).sum()],\n",
    "])\n",
    "\n",
    "print('Confusion matrix:')\n",
    "print(conf)\n",
    "print()\n",
    "print('Accuracy: %.3f' % (np.sum(np.diag(conf)) / float(np.sum(conf))))\n"
   ]
  },
  {
   "cell_type": "code",
   "execution_count": null,
   "metadata": {},
   "outputs": [],
   "source": []
  }
 ],
 "metadata": {
  "kernelspec": {
   "display_name": "Python 3",
   "language": "python",
   "name": "python3"
  },
  "language_info": {
   "codemirror_mode": {
    "name": "ipython",
    "version": 3
   },
   "file_extension": ".py",
   "mimetype": "text/x-python",
   "name": "python",
   "nbconvert_exporter": "python",
   "pygments_lexer": "ipython3",
   "version": "3.6.9"
  }
 },
 "nbformat": 4,
 "nbformat_minor": 2
}
